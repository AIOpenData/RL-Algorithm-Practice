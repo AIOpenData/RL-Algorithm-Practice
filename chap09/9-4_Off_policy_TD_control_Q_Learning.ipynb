{
 "cells": [
  {
   "cell_type": "markdown",
   "metadata": {},
   "source": [
    "### 采用Q-Learning算法求解该问题中的最优路径"
   ]
  },
  {
   "cell_type": "code",
   "execution_count": 31,
   "metadata": {},
   "outputs": [],
   "source": [
    "# 导入相关包\n",
    "import gym\n",
    "import matplotlib\n",
    "import numpy as np\n",
    "from collections import defaultdict\n",
    "from gym.envs.toy_text.cliffwalking import CliffWalkingEnv"
   ]
  },
  {
   "cell_type": "code",
   "execution_count": 37,
   "metadata": {},
   "outputs": [],
   "source": [
    "# 实例化环境CliffWalkingEnv\n",
    "env = CliffWalkingEnv(render_mode=\"ansi\")    # 指定render_mode参数"
   ]
  },
  {
   "cell_type": "code",
   "execution_count": 33,
   "metadata": {},
   "outputs": [],
   "source": [
    "# epsilon\\_greedy返回policy函数\n",
    "# policy函数的输入是状态，输出是根据epsilon\\_greedy采取各个行动的概率\n",
    "def epsilon_greedy(Q, epsilon, nA):\n",
    "    def policy(state):\n",
    "        A_prob = np.ones(nA) * epsilon / nA\n",
    "        best_action = np.argmax(Q[state])\n",
    "        A_prob[best_action] += (1 - epsilon)\n",
    "        return A_prob\n",
    "    return policy"
   ]
  },
  {
   "cell_type": "code",
   "execution_count": 34,
   "metadata": {},
   "outputs": [],
   "source": [
    "def q_learning(env, num_epi, discount=1.0, epsilon=0.1, alpha=0.5):\n",
    "    # Q = {state1:[action1-value, action2-value],...}\n",
    "    Q = defaultdict(lambda: np.zeros(env.action_space.n))\n",
    "    policy = epsilon_greedy(Q, epsilon, env.action_space.n)\n",
    "    for i in range(num_epi):\n",
    "        state = env.reset()   # (36, {'prob': 1})\n",
    "        # 此处只选取state中有价值的信息，即元组的第一个元素\n",
    "        if isinstance(state, tuple):\n",
    "            state = state[0]  \n",
    "        else:\n",
    "            state = state \n",
    "        while(True):\n",
    "            # 在状态state下，根据策略policy，计算行动概率\n",
    "            prob = policy(state)\n",
    "            # 采取行动：action\n",
    "            action = np.random.choice(np.arange(len(prob)), p=prob)\n",
    "            # 行动action导致下一个状态next\\_state\n",
    "            next_state, reward, done, _, info = env.step(action)   # (24, -1, False, False, {'prob': 1.0})\n",
    "            # 选择最优行动\n",
    "            best_next_action = np.argmax(Q[next_state])\n",
    "            Q[state][action] += alpha * (reward + discount * Q[next_state][best_next_action] - Q[state][action])\n",
    "            if done:\n",
    "                break\n",
    "            state = next_state\n",
    "    return Q"
   ]
  },
  {
   "cell_type": "code",
   "execution_count": 35,
   "metadata": {},
   "outputs": [],
   "source": [
    "def td_render(Q):\n",
    "    state = env.reset()   # (36, {'prob': 1})\n",
    "    # 此处只选取state中有价值的信息，即元组的第一个元素\n",
    "    if isinstance(state, tuple):\n",
    "        state = state[0]  \n",
    "    else:\n",
    "        state = state \n",
    "    while True:\n",
    "        # 根据Q-Learning算法得到的Q，寻找最优路径\n",
    "        next_state, reward, done, _, info = env.step(np.argmax(Q[state]))    # (24, -1, False, False, {'prob': 1.0})\n",
    "        env.render()\n",
    "        if done:\n",
    "            break\n",
    "        state = next_state"
   ]
  },
  {
   "cell_type": "code",
   "execution_count": 36,
   "metadata": {},
   "outputs": [],
   "source": [
    "Q = q_learning(env, 1000)\n",
    "td_render(Q)"
   ]
  },
  {
   "cell_type": "code",
   "execution_count": null,
   "metadata": {},
   "outputs": [],
   "source": []
  }
 ],
 "metadata": {
  "kernelspec": {
   "display_name": "Python(mygym1)",
   "language": "python",
   "name": "mygym"
  },
  "language_info": {
   "codemirror_mode": {
    "name": "ipython",
    "version": 3
   },
   "file_extension": ".py",
   "mimetype": "text/x-python",
   "name": "python",
   "nbconvert_exporter": "python",
   "pygments_lexer": "ipython3",
   "version": "3.9.12"
  }
 },
 "nbformat": 4,
 "nbformat_minor": 4
}
