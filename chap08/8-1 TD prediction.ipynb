{
 "cells": [
  {
   "cell_type": "markdown",
   "metadata": {},
   "source": [
    "### 时序差分预测 TD(0)预测"
   ]
  },
  {
   "cell_type": "code",
   "execution_count": 29,
   "metadata": {},
   "outputs": [],
   "source": [
    "import gym\n",
    "import matplotlib\n",
    "import numpy as np\n",
    "from collections import defaultdict\n",
    "from gym.envs.toy_text.cliffwalking import CliffWalkingEnv"
   ]
  },
  {
   "cell_type": "code",
   "execution_count": 30,
   "metadata": {},
   "outputs": [],
   "source": [
    "env = CliffWalkingEnv()"
   ]
  },
  {
   "cell_type": "code",
   "execution_count": 31,
   "metadata": {},
   "outputs": [],
   "source": [
    "def policy(state, nA):\n",
    "    return np.ones(nA) * 1 / 4"
   ]
  },
  {
   "cell_type": "code",
   "execution_count": 32,
   "metadata": {},
   "outputs": [],
   "source": [
    "def td_prediction(env, n, discount=1.0, epsilon=0.1, alpha=0.5):\n",
    "    V = defaultdict(float) # 初始化值：0.0\n",
    "    for i in range(n):\n",
    "        state = env.reset()\n",
    "        while(True):\n",
    "            prob = policy(state, env.action_space.n)\n",
    "            action = np.random.choice(np.arange(len(prob)), p=prob)\n",
    "            next_state, reward, done, _, info  = env.step(action)   # env.step(action): (24, -1, False, False, {'prob': 1.0})\n",
    "            \n",
    "            # state可能会包含字典(如：(36, {'prob': 1}))，此处只选取state中有价值的信息，即元组的第一个元素\n",
    "            if isinstance(state, tuple):\n",
    "                state = state[0]  \n",
    "            else:\n",
    "                state = state  \n",
    "            td_error = reward + discount * V[next_state] - V[state]\n",
    "            V[state] = V[state] + alpha * td_error\n",
    "            state = next_state\n",
    "            if done:\n",
    "                break            \n",
    "    return V"
   ]
  },
  {
   "cell_type": "code",
   "execution_count": 33,
   "metadata": {
    "scrolled": true
   },
   "outputs": [
    {
     "name": "stdout",
     "output_type": "stream",
     "text": [
      "defaultdict(<class 'float'>, {36: -47251.929826786814, 24: -47214.16400989915, 25: -47173.4782717281, 12: -47040.592142616915, 26: -47081.01011183771, 0: -46989.2411471215, 1: -46715.23774891953, 13: -47055.22059617612, 2: -46449.113084543016, 3: -46200.45903682865, 4: -45838.36684117369, 16: -46466.64470288939, 28: -47171.30071233253, 29: -46103.811423255174, 17: -46118.27305862143, 5: -45022.77589201734, 6: -44024.14698302928, 18: -44986.55519181998, 7: -42105.68471701404, 19: -45125.906559534036, 31: -45163.90293882783, 8: -37864.26478087865, 9: -36811.514657675136, 10: -30411.182030983484, 22: -30348.945166393736, 23: -21545.318144699362, 11: -28179.585549189997, 21: -35677.94007744161, 33: -31307.307618814477, 14: -46809.8626945939, 27: -47112.89186886365, 15: -46937.23828673103, 20: -42102.28476984329, 32: -45188.14058957873, 30: -46012.05315750709, 34: -16165.365104744345, 35: -8073.89981985952, 47: 0.0})\n"
     ]
    }
   ],
   "source": [
    "if __name__ == \"__main__\":\n",
    "    n = 1000\n",
    "    V = td_prediction(env, n)\n",
    "    print(V)"
   ]
  },
  {
   "cell_type": "code",
   "execution_count": null,
   "metadata": {},
   "outputs": [],
   "source": []
  }
 ],
 "metadata": {
  "kernelspec": {
   "display_name": "Python(mygym)",
   "language": "python",
   "name": "mygym"
  },
  "language_info": {
   "codemirror_mode": {
    "name": "ipython",
    "version": 3
   },
   "file_extension": ".py",
   "mimetype": "text/x-python",
   "name": "python",
   "nbconvert_exporter": "python",
   "pygments_lexer": "ipython3",
   "version": "3.9.12"
  }
 },
 "nbformat": 4,
 "nbformat_minor": 4
}
