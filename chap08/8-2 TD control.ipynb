{
 "cells": [
  {
   "cell_type": "markdown",
   "metadata": {},
   "source": [
    "### 采用Sarsa算法求解该问题中的最优路径"
   ]
  },
  {
   "cell_type": "code",
   "execution_count": 90,
   "metadata": {},
   "outputs": [],
   "source": [
    "import gym\n",
    "import matplotlib\n",
    "import numpy as np\n",
    "from collections import defaultdict\n",
    "from gym.envs.toy_text.cliffwalking import CliffWalkingEnv"
   ]
  },
  {
   "cell_type": "code",
   "execution_count": 91,
   "metadata": {},
   "outputs": [],
   "source": [
    "'''\n",
    "新版本gym在创建环境时需要指定render_mode这个参数\n",
    "（1）\"human\"：渲染到当前显示设备或终端，适合人类观察。\n",
    "（2）\"ansi\"：文本渲染模式，适合简化查看环境变化的情况，尤其是对状态变化进行跟踪。\n",
    "（3）\"rgb_array\"：图像渲染模式，适合需要视觉反馈的场景，适用于图形化环境。\n",
    "（4）None：无渲染模式，适合对渲染无需求的情况，主要关注计算效率\n",
    "'''\n",
    "env = CliffWalkingEnv(render_mode=\"ansi\")   "
   ]
  },
  {
   "cell_type": "code",
   "execution_count": 92,
   "metadata": {},
   "outputs": [],
   "source": [
    "# epsilon_greedy返回policy函数\n",
    "# policy函数的输入是状态，输出是根据epsilon_greedy采取各个行动的概率\n",
    "def epsilon_greedy(Q, epsilon, nA):\n",
    "    def policy(state):\n",
    "        # state可能会包含字典(如：(36, {'prob': 1}))，此处只选取state中有价值的信息，即元组的第一个元素\n",
    "        if isinstance(state, tuple):\n",
    "            state = state[0]  \n",
    "        else:\n",
    "            state = state \n",
    "        A_prob = np.ones(nA) * epsilon / nA\n",
    "        best_action = np.argmax(Q[state])\n",
    "        A_prob[best_action] += (1 - epsilon)\n",
    "        return A_prob\n",
    "    return policy "
   ]
  },
  {
   "cell_type": "code",
   "execution_count": 93,
   "metadata": {},
   "outputs": [],
   "source": [
    "def sarsa(env, n, discount=1.0, epsilon=0.1, alpha=0.5):\n",
    "    # Q = {state:[action1-value, action2-value]}\n",
    "    Q = defaultdict(lambda: np.zeros(env.action_space.n))\n",
    "    policy = epsilon_greedy(Q, epsilon, env.action_space.n)\n",
    "    for i in range(n):\n",
    "        state = env.reset()\n",
    "        while(True):\n",
    "            # 在状态state下，根据策略policy，计算行动概率\n",
    "            prob = policy(state)\n",
    "            # 采取行动：action\n",
    "            action = np.random.choice(np.arange(len(prob)), p=prob)\n",
    "            # 行动action导致下一个状态next_state, env.step(action)的格式为：(24, -1, False, False, {'prob': 1.0})\n",
    "            next_state, reward, done, _, info = env.step(action)\n",
    "            # 在状态next_state下，根据策略policy，计算行动概率\n",
    "            next_action_prob = policy(next_state)\n",
    "            # 采取行动：next_action\n",
    "            next_action = np.random.choice(np.arange(len(next_action_prob)), p=next_action_prob)\n",
    "\n",
    "            # state可能会包含字典(如：(36, {'prob': 1}))，此处只选取state中有价值的信息，即元组的第一个元素\n",
    "            if isinstance(state, tuple):\n",
    "                state = state[0]  \n",
    "            else:\n",
    "                state = state\n",
    "            td_error = reward + discount * Q[next_state][next_action] - Q[state][action]\n",
    "            Q[state][action] = Q[state][action] + alpha * td_error\n",
    "            \n",
    "            if done:\n",
    "                break  \n",
    "            \n",
    "            state = next_state\n",
    "            action = next_action \n",
    "    return Q"
   ]
  },
  {
   "cell_type": "code",
   "execution_count": 94,
   "metadata": {},
   "outputs": [],
   "source": [
    "def td_render(Q):\n",
    "    state = env.reset()\n",
    "    # state可能会包含字典(如：(36, {'prob': 1}))，此处只选取state中有价值的信息，即元组的第一个元素\n",
    "    if isinstance(state, tuple):\n",
    "        state = state[0]  \n",
    "    else:\n",
    "        state = state\n",
    "    while True:\n",
    "        next_state, reward, done, _, info = env.step(np.argmax(Q[state]))\n",
    "        env.render()\n",
    "        if done:\n",
    "            break\n",
    "        state = next_state"
   ]
  },
  {
   "cell_type": "code",
   "execution_count": 95,
   "metadata": {},
   "outputs": [],
   "source": [
    "Q = sarsa(env, 1000)\n",
    "td_render(Q)"
   ]
  },
  {
   "cell_type": "code",
   "execution_count": null,
   "metadata": {},
   "outputs": [],
   "source": []
  }
 ],
 "metadata": {
  "kernelspec": {
   "display_name": "Python(mygym)",
   "language": "python",
   "name": "mygym"
  },
  "language_info": {
   "codemirror_mode": {
    "name": "ipython",
    "version": 3
   },
   "file_extension": ".py",
   "mimetype": "text/x-python",
   "name": "python",
   "nbconvert_exporter": "python",
   "pygments_lexer": "ipython3",
   "version": "3.9.12"
  }
 },
 "nbformat": 4,
 "nbformat_minor": 4
}
